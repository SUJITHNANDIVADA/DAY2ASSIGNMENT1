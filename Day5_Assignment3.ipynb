{
  "nbformat": 4,
  "nbformat_minor": 0,
  "metadata": {
    "colab": {
      "name": "Day5 Assignment3.ipynb",
      "provenance": [],
      "authorship_tag": "ABX9TyMNe7bt4dcgrwSk1koBP9i1",
      "include_colab_link": true
    },
    "kernelspec": {
      "name": "python3",
      "display_name": "Python 3"
    }
  },
  "cells": [
    {
      "cell_type": "markdown",
      "metadata": {
        "id": "view-in-github",
        "colab_type": "text"
      },
      "source": [
        "<a href=\"https://colab.research.google.com/github/SUJITHNANDIVADA/DAY2ASSIGNMENT1/blob/main/Day5_Assignment3.ipynb\" target=\"_parent\"><img src=\"https://colab.research.google.com/assets/colab-badge.svg\" alt=\"Open In Colab\"/></a>"
      ]
    },
    {
      "cell_type": "code",
      "metadata": {
        "id": "QbTVG1rjFIa-"
      },
      "source": [
        ""
      ],
      "execution_count": null,
      "outputs": []
    },
    {
      "cell_type": "code",
      "metadata": {
        "colab": {
          "base_uri": "https://localhost:8080/"
        },
        "id": "TIENWWMUFJJn",
        "outputId": "d5917703-247d-448d-e396-d38f8ac51d0e"
      },
      "source": [
        "#To check weather the number is prime or not\r\n",
        "num=9\r\n",
        "if num > 1:\r\n",
        "   for i in range(2,num):\r\n",
        "       if (num % i) == 0:\r\n",
        "           print(num,\"is not a prime number\")\r\n",
        "           break\r\n",
        "   else:\r\n",
        "       print(num,\"is a prime number\")\r\n",
        "else:\r\n",
        "   print(num,\"is not a prime number\")"
      ],
      "execution_count": 1,
      "outputs": [
        {
          "output_type": "stream",
          "text": [
            "9 is not a prime number\n"
          ],
          "name": "stdout"
        }
      ]
    },
    {
      "cell_type": "code",
      "metadata": {
        "id": "PMEVSwekFT87"
      },
      "source": [
        ""
      ],
      "execution_count": null,
      "outputs": []
    }
  ]
}