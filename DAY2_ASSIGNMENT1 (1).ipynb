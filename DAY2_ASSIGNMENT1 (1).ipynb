{
  "nbformat": 4,
  "nbformat_minor": 0,
  "metadata": {
    "colab": {
      "name": "DAY2 ASSIGNMENT1.ipynb",
      "provenance": [],
      "collapsed_sections": []
    },
    "kernelspec": {
      "name": "python3",
      "display_name": "Python 3"
    }
  },
  "cells": [
    {
      "cell_type": "code",
      "metadata": {
        "id": "BxdUfi0-mtgy"
      },
      "source": [
        ""
      ],
      "execution_count": null,
      "outputs": []
    },
    {
      "cell_type": "markdown",
      "metadata": {
        "id": "gnpxSSXvnE5R"
      },
      "source": [
        "In [1]:\r\n",
        "#1st experiment with list\r\n",
        "mylist = [1,2,3,4,5]\r\n",
        "print(mylist)\r\n",
        "[1, 2, 3, 4, 5]\r\n",
        "In [6]:\r\n",
        "#2nd experiment with list\r\n",
        "mylist=[2,4,6,\"sujith\"]\r\n",
        "mylist[3]\r\n",
        "Out[6]:\r\n",
        "'sujith'\r\n",
        "In [7]:\r\n",
        "#3rd experiment with list\r\n",
        "mylist=[\"new\",\"world\",0,5,9]\r\n",
        "mylist[-1]\r\n",
        "Out[7]:\r\n",
        "9\r\n",
        "In [9]:\r\n",
        "#4th experiment with list\r\n",
        "mylist=[3,6,9]\r\n",
        "mylist.append(12)\r\n",
        "print(mylist)\r\n",
        "[3, 6, 9, 12]\r\n",
        "In [22]:\r\n",
        "#5th experiment with list\r\n",
        "mylist=(2,3,4,7,9,0,5,)\r\n",
        "del mylist"
      ]
    }
  ]
}