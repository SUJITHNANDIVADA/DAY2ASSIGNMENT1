{
  "nbformat": 4,
  "nbformat_minor": 0,
  "metadata": {
    "colab": {
      "name": "DAY3 ASSIGNMENT2.ipynb",
      "provenance": [],
      "authorship_tag": "ABX9TyPj4+QFvQuvUoOyfb67V+Zw",
      "include_colab_link": true
    },
    "kernelspec": {
      "name": "python3",
      "display_name": "Python 3"
    }
  },
  "cells": [
    {
      "cell_type": "markdown",
      "metadata": {
        "id": "view-in-github",
        "colab_type": "text"
      },
      "source": [
        "<a href=\"https://colab.research.google.com/github/SUJITHNANDIVADA/DAY2ASSIGNMENT1/blob/main/DAY3_ASSIGNMENT2.ipynb\" target=\"_parent\"><img src=\"https://colab.research.google.com/assets/colab-badge.svg\" alt=\"Open In Colab\"/></a>"
      ]
    },
    {
      "cell_type": "code",
      "metadata": {
        "id": "gOZK3qdlFrMC"
      },
      "source": [
        ""
      ],
      "execution_count": null,
      "outputs": []
    },
    {
      "cell_type": "markdown",
      "metadata": {
        "id": "rYk8PelBFyig"
      },
      "source": [
        ""
      ]
    },
    {
      "cell_type": "code",
      "metadata": {
        "colab": {
          "base_uri": "https://localhost:8080/"
        },
        "id": "Yo2wcRyqGKKa",
        "outputId": "4d80d18a-9f07-4eaa-abc1-c2f9851892c5"
      },
      "source": [
        "#to land the plane at 1000ft\r\n",
        "altitude=1000\r\n",
        "if altitude<1001:\r\n",
        "  print(\"SAFE TO LAND\")\r\n",
        "elif altitude > 5000 :\r\n",
        "  print(\"TURN AROUND\")\r\n",
        "else:\r\n",
        "  print(\"BRING DOWN TO 1000\")"
      ],
      "execution_count": 23,
      "outputs": [
        {
          "output_type": "stream",
          "text": [
            "SAFE TO LAND\n"
          ],
          "name": "stdout"
        }
      ]
    },
    {
      "cell_type": "markdown",
      "metadata": {
        "id": "TwUNwXsFFv_T"
      },
      "source": [
        ""
      ]
    },
    {
      "cell_type": "code",
      "metadata": {
        "colab": {
          "base_uri": "https://localhost:8080/"
        },
        "id": "K8cGefL6JHBV",
        "outputId": "e0040f11-048f-4764-939f-73ca2d639111"
      },
      "source": [
        "#to land the plane at 1000ft\r\n",
        "altitude=4500\r\n",
        "if altitude<1001:\r\n",
        "  print(\"SAFE TO LAND\")\r\n",
        "elif altitude > 5000 :\r\n",
        "  print(\"TURN AROUND\")\r\n",
        "else:\r\n",
        "  print(\"BRING DOWN TO 1000\")"
      ],
      "execution_count": 21,
      "outputs": [
        {
          "output_type": "stream",
          "text": [
            "BRING DOWN TO 1000\n"
          ],
          "name": "stdout"
        }
      ]
    },
    {
      "cell_type": "code",
      "metadata": {
        "colab": {
          "base_uri": "https://localhost:8080/"
        },
        "id": "u29Ibsn4JLGa",
        "outputId": "745cd799-7044-4d97-c332-fd7928335e2b"
      },
      "source": [
        "#to land the plane at 1000ft\r\n",
        "altitude=6500\r\n",
        "if altitude<1001:\r\n",
        "  print(\"SAFE TO LAND\")\r\n",
        "elif altitude > 5000 :\r\n",
        "  print(\"TURN AROUND\")\r\n",
        "else:\r\n",
        "  print(\"BRING DOWN TO 1000\")"
      ],
      "execution_count": 22,
      "outputs": [
        {
          "output_type": "stream",
          "text": [
            "TURN AROUND\n"
          ],
          "name": "stdout"
        }
      ]
    },
    {
      "cell_type": "code",
      "metadata": {
        "id": "efRTM5dtJO1l"
      },
      "source": [
        ""
      ],
      "execution_count": null,
      "outputs": []
    }
  ]
}