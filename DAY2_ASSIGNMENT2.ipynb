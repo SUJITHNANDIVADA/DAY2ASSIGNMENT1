{
  "nbformat": 4,
  "nbformat_minor": 0,
  "metadata": {
    "colab": {
      "name": "DAY2 ASSIGNMENT2.ipynb",
      "provenance": [],
      "collapsed_sections": []
    },
    "kernelspec": {
      "name": "python3",
      "display_name": "Python 3"
    }
  },
  "cells": [
    {
      "cell_type": "code",
      "metadata": {
        "id": "BxdUfi0-mtgy"
      },
      "source": [
        ""
      ],
      "execution_count": null,
      "outputs": []
    },
    {
      "cell_type": "markdown",
      "metadata": {
        "id": "S7OEWqciqNMB"
      },
      "source": [
        "In [6]:\r\n",
        "#1st experiment with dictionary\r\n",
        "mydict={\"name\":\"sujith\",\"age\":21,\"location\":\"vijayawada\"}\r\n",
        "mydict\r\n",
        "Out[6]:\r\n",
        "{'age': 21, 'location': 'vijayawada', 'name': 'sai'}\r\n",
        "In [17]:\r\n",
        "#2nd experiment with dictionary\r\n",
        "bioData = {\"name\":\"sujith\",\"age\":21}\r\n",
        "bioData.get(\"age\")\r\n",
        "Out[17]:\r\n",
        "21\r\n",
        "In [25]:\r\n",
        "#3rd experiment with dictionary-remove element\r\n",
        "mydict={1:1,2:2,3:6,4:8,5:10,6:12}\r\n",
        "mydict.pop(2)\r\n",
        "print(mydict)\r\n",
        "{1: 1, 3: 6, 4: 8, 5: 10, 6: 12}\r\n",
        "In [33]:\r\n",
        "#4th experiment with dictionary\r\n",
        "mydict={\"english\":90,\"science\":60}\r\n",
        "mydict.get(\"science\")\r\n",
        "Out[33]:\r\n",
        "60\r\n",
        "In [38]:\r\n",
        "#5th experiment with dictionary\r\n",
        "mydict={\"key1\":\"earth\",\"key2\":\"venus\",}\r\n",
        "print(mydict)\r\n",
        "{'key1': 'earth', 'key2': 'venus'}\r\n",
        "In [ ]:\r\n",
        "9"
      ]
    }
  ]
}